{
 "cells": [
  {
   "cell_type": "code",
   "execution_count": null,
   "metadata": {},
   "outputs": [],
   "source": [
    "import numpy as np\n",
    "from pycvodes import integrate_adaptive, fpes\n",
    "from van_der_pol import get_f_and_j"
   ]
  },
  {
   "cell_type": "code",
   "execution_count": null,
   "metadata": {},
   "outputs": [],
   "source": [
    "help(integrate_adaptive)"
   ]
  },
  {
   "cell_type": "code",
   "execution_count": null,
   "metadata": {},
   "outputs": [],
   "source": [
    "rhs, jac = get_f_and_j(1.0)\n",
    "xout, yout, info = integrate_adaptive(\n",
    "    rhs, jac, [0, 1], 0, 25.0, dx0=1e-12, atol=1e-7, rtol=1e-7,\n",
    "    record_rhs_xvals=True, record_jac_xvals=True, record_order=True,\n",
    "    record_fpe=True, record_steps=True, nsteps=2000, ew_ele=True)\n",
    "print(info['success'])"
   ]
  },
  {
   "cell_type": "code",
   "execution_count": null,
   "metadata": {},
   "outputs": [],
   "source": [
    "import matplotlib.pyplot as plt\n",
    "%matplotlib inline\n",
    "fig, axes = plt.subplots(7, 1, figsize=(16,20))\n",
    "for k, ax in zip(['steps', 'rhs', 'jac'], axes.flat):\n",
    "    for x in xout if k == 'steps' else info[k + '_xvals']:\n",
    "        ax.axvline(x, c='darkgreen', alpha=0.1)\n",
    "    ax.plot(xout, yout)\n",
    "    ax.set_xlim([xout[0], xout[-1]])\n",
    "    ax.set_ylabel(k)\n",
    "axes[-4].plot(info['steps'])\n",
    "axes[-4].set_ylabel('step-size')\n",
    "axes[-3].plot(xout[1:], info['fpes'][1:] - fpes['FE_INEXACT'])\n",
    "axes[-3].set_ylabel('fpes')\n",
    "axes[-2].plot(xout, info['orders'])\n",
    "axes[-2].set_ylabel('order')\n",
    "axes[-1].plot(xout, np.prod(info['ew_ele'], axis=1))\n",
    "_ = plt.tight_layout"
   ]
  },
  {
   "cell_type": "code",
   "execution_count": null,
   "metadata": {},
   "outputs": [],
   "source": [
    "fpes"
   ]
  },
  {
   "cell_type": "code",
   "execution_count": null,
   "metadata": {},
   "outputs": [],
   "source": [
    "info['steps'].size, xout.size"
   ]
  },
  {
   "cell_type": "code",
   "execution_count": null,
   "metadata": {},
   "outputs": [],
   "source": [
    "sum(info['steps']), xout[-1]"
   ]
  },
  {
   "cell_type": "code",
   "execution_count": null,
   "metadata": {},
   "outputs": [],
   "source": []
  }
 ],
 "metadata": {
  "kernelspec": {
   "display_name": "Python 3",
   "language": "python",
   "name": "python3"
  },
  "language_info": {
   "codemirror_mode": {
    "name": "ipython",
    "version": 3
   },
   "file_extension": ".py",
   "mimetype": "text/x-python",
   "name": "python",
   "nbconvert_exporter": "python",
   "pygments_lexer": "ipython3",
   "version": "3.5.2"
  }
 },
 "nbformat": 4,
 "nbformat_minor": 1
}
